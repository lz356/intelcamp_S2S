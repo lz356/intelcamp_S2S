{
 "cells": [
  {
   "cell_type": "markdown",
   "id": "03555ba5",
   "metadata": {},
   "source": [
    "All raw data are from https://github.com/lz356/intelcamp_S2S/tree/main/S2S/data/Synthetic%20Site"
   ]
  },
  {
   "cell_type": "markdown",
   "id": "3d642895",
   "metadata": {},
   "source": [
    "Concatenate \"Predictors\" and \"Targets\" data in the order of date, respectively"
   ]
  },
  {
   "cell_type": "markdown",
   "id": "2dc2ee03",
   "metadata": {},
   "source": [
    "Concatenate \"Predictors\" and \"Targets\": The first n-1 columns are Predictors of the model. The nth column (last column) is the Target of the model"
   ]
  },
  {
   "cell_type": "markdown",
   "id": "0e87ad75",
   "metadata": {},
   "source": [
    "Randomly split 80% of the data as training data, and 20% of the data as testing data, and save them as separate csv files separately as \"training.csv\" and \"testing.csv\", and send them to liangzhang1@arizona.edu"
   ]
  },
  {
   "cell_type": "code",
   "execution_count": 15,
   "id": "745c91a3",
   "metadata": {},
   "outputs": [],
   "source": [
    "import pandas as pd\n",
    "import os"
   ]
  },
  {
   "cell_type": "markdown",
   "id": "2cabf5c9",
   "metadata": {},
   "source": [
    "Code below"
   ]
  },
  {
   "cell_type": "code",
   "execution_count": null,
   "id": "3c6454fb",
   "metadata": {},
   "outputs": [],
   "source": []
  }
 ],
 "metadata": {
  "kernelspec": {
   "display_name": "Python 3 (ipykernel)",
   "language": "python",
   "name": "python3"
  },
  "language_info": {
   "codemirror_mode": {
    "name": "ipython",
    "version": 3
   },
   "file_extension": ".py",
   "mimetype": "text/x-python",
   "name": "python",
   "nbconvert_exporter": "python",
   "pygments_lexer": "ipython3",
   "version": "3.10.4"
  }
 },
 "nbformat": 4,
 "nbformat_minor": 5
}
