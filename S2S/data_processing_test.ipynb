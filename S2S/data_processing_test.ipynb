{
 "cells": [
  {
   "cell_type": "markdown",
   "id": "5d9440cb",
   "metadata": {},
   "source": [
    "All raw data are from https://github.com/lz356/intelcamp_S2S/tree/main/S2S/data/Synthetic%20Site"
   ]
  },
  {
   "cell_type": "markdown",
   "id": "4c0e71e8",
   "metadata": {},
   "source": [
    "Concatenate \"Predictors\" and \"Targets\" data in the order of date, respectively"
   ]
  },
  {
   "cell_type": "markdown",
   "id": "2b2ba33f",
   "metadata": {},
   "source": [
    "Concatenate \"Predictors\" and \"Targets\" in one DataFrame: The first n-1 columns are Predictors of the model. The nth column (last column) is the Target of the model"
   ]
  },
  {
   "cell_type": "markdown",
   "id": "231d3b83",
   "metadata": {},
   "source": [
    "Randomly split 80% of the data as training data, and 20% of the data as testing data, and save them as separate csv files separately as \"training.csv\" and \"testing.csv\". Save the Jupyter Notebook as \"data_processing_your_name.ipnyb\", and send it to liangzhang1@arizona.edu"
   ]
  },
  {
   "cell_type": "code",
   "execution_count": null,
   "id": "002261c8",
   "metadata": {},
   "outputs": [],
   "source": [
    "import pandas as pd\n",
    "import os"
   ]
  },
  {
   "cell_type": "markdown",
   "id": "ce8c3c7b",
   "metadata": {},
   "source": [
    "Code below"
   ]
  },
  {
   "cell_type": "code",
   "execution_count": null,
   "id": "701779fe",
   "metadata": {},
   "outputs": [],
   "source": []
  }
 ],
 "metadata": {
  "kernelspec": {
   "display_name": "Python 3 (ipykernel)",
   "language": "python",
   "name": "python3"
  },
  "language_info": {
   "codemirror_mode": {
    "name": "ipython",
    "version": 3
   },
   "file_extension": ".py",
   "mimetype": "text/x-python",
   "name": "python",
   "nbconvert_exporter": "python",
   "pygments_lexer": "ipython3",
   "version": "3.10.4"
  }
 },
 "nbformat": 4,
 "nbformat_minor": 5
}
