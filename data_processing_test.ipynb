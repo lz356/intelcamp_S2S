{
 "cells": [
  {
   "cell_type": "code",
   "execution_count": 6,
   "id": "621fff8a",
   "metadata": {},
   "outputs": [],
   "source": [
    "import pandas as pd"
   ]
  },
  {
   "cell_type": "markdown",
   "id": "fb9684b7",
   "metadata": {},
   "source": [
    "Code below"
   ]
  },
  {
   "cell_type": "code",
   "execution_count": null,
   "id": "c42536de",
   "metadata": {},
   "outputs": [],
   "source": []
  },
  {
   "cell_type": "markdown",
   "id": "32f517e6",
   "metadata": {},
   "source": [
    "Save the processed data and send the csv file to liangzhang1@arizona.edu"
   ]
  },
  {
   "cell_type": "code",
   "execution_count": null,
   "id": "b3eb34cc",
   "metadata": {},
   "outputs": [],
   "source": []
  },
  {
   "cell_type": "code",
   "execution_count": null,
   "id": "ca012fb1",
   "metadata": {},
   "outputs": [],
   "source": []
  }
 ],
 "metadata": {
  "kernelspec": {
   "display_name": "Python 3 (ipykernel)",
   "language": "python",
   "name": "python3"
  },
  "language_info": {
   "codemirror_mode": {
    "name": "ipython",
    "version": 3
   },
   "file_extension": ".py",
   "mimetype": "text/x-python",
   "name": "python",
   "nbconvert_exporter": "python",
   "pygments_lexer": "ipython3",
   "version": "3.10.4"
  }
 },
 "nbformat": 4,
 "nbformat_minor": 5
}
