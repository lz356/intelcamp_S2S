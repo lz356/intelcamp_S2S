{
 "cells": [
  {
   "cell_type": "markdown",
   "id": "9da986fc",
   "metadata": {},
   "source": [
    "All raw data are from https://github.com/lz356/intelcamp_S2S/tree/main/S2S/data/Synthetic%20Site"
   ]
  },
  {
   "cell_type": "markdown",
   "id": "83824166",
   "metadata": {},
   "source": [
    "Concat data in the order of date"
   ]
  },
  {
   "cell_type": "markdown",
   "id": "0e41784a",
   "metadata": {},
   "source": [
    "Concat \"Predictors\" and \"Targets\": The first n-1 columns are Predictors of the model. The nth column (last column) is the Target of the model"
   ]
  },
  {
   "cell_type": "markdown",
   "id": "a41593c7",
   "metadata": {},
   "source": [
    "Randomly split 80% of the data as training data, and 20% of the data as testing data"
   ]
  },
  {
   "cell_type": "code",
   "execution_count": 8,
   "id": "a14cc3cf",
   "metadata": {},
   "outputs": [],
   "source": [
    "import pandas as pd\n",
    "import os"
   ]
  },
  {
   "cell_type": "markdown",
   "id": "6f485501",
   "metadata": {},
   "source": [
    "Code below"
   ]
  },
  {
   "cell_type": "code",
   "execution_count": null,
   "id": "f0266ef5",
   "metadata": {},
   "outputs": [],
   "source": []
  },
  {
   "cell_type": "markdown",
   "id": "68fa4e38",
   "metadata": {},
   "source": [
    "Save the processed data and send the csv file \"training.csv\" and \"testing.csv\" to liangzhang1@arizona.edu"
   ]
  },
  {
   "cell_type": "code",
   "execution_count": null,
   "id": "ef567006",
   "metadata": {},
   "outputs": [],
   "source": []
  }
 ],
 "metadata": {
  "kernelspec": {
   "display_name": "Python 3 (ipykernel)",
   "language": "python",
   "name": "python3"
  },
  "language_info": {
   "codemirror_mode": {
    "name": "ipython",
    "version": 3
   },
   "file_extension": ".py",
   "mimetype": "text/x-python",
   "name": "python",
   "nbconvert_exporter": "python",
   "pygments_lexer": "ipython3",
   "version": "3.10.4"
  }
 },
 "nbformat": 4,
 "nbformat_minor": 5
}
